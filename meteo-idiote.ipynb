{
 "cells": [
  {
   "cell_type": "markdown",
   "metadata": {},
   "source": [
    "# Meteo idiote"
   ]
  },
  {
   "cell_type": "markdown",
   "metadata": {},
   "source": [
    "## Introduction\n",
    "C'est un peu mon ML100\n",
    "Comment utiliser l'exemple le plus idiot permet tout de même d'apprendre les réseaux de neurones. \n",
    "\n",
    "*Quel est le principe et pourquoi c'est idiot ?*\n",
    "Le principe est de déduire la saison en indiquant la température.\n",
    "C'est évident, la techno/solution est mal adaptée, le degré d'incertitude est énorme.\n",
    "L'efficacité sera proche de l'aléatoire.\n",
    "Bref, c'est inutile!\n",
    "\n",
    "*Pourquoi c'est tout de même intéressant ?*\n",
    "Pour apprendre\n",
    "* Trouver les données (datasets)\n",
    "* Nettoyer les données et les préparer (data cleaning et data prep)\n",
    "* Préparation de l'environnement (Environment setup, Python virtualenv/pyenv/conda headache) et ainsi apprendre et raffraîchir ses connaissances \n",
    "* Construire le modèle (Keras model)\n",
    "* Le sauvegarder et le réutiliser\n",
    "* prédire\n",
    "\n",
    "\n",
    "TODO : \n",
    "* compléter les analyses de données\n",
    "* faire une repréentation en 3D avec matplotlib\n",
    "* mélanger les données\n",
    "* avoir un jeu de test\n",
    "* /!\\ jouer avec les fonctions d'object \n",
    "* récupérer les données avec les heures de mesures (ce qui devrait faire bondir les performances) \n",
    "* Une application PWA avec le modèle chargé en local pour l'utiliser à tout moment (tensorflow.js ?)\n",
    "* utiliser les services en ligne GCP\n",
    "* S'attaquer à vrai problème utile"
   ]
  },
  {
   "cell_type": "markdown",
   "metadata": {},
   "source": [
    "## Analyser les données"
   ]
  },
  {
   "cell_type": "code",
   "execution_count": 58,
   "metadata": {},
   "outputs": [
    {
     "name": "stdout",
     "output_type": "stream",
     "text": [
      "temp [278.55 277.35 276.85 ... 281.05 282.35 282.55]\n",
      "hour [     0      0      0 ... 210000 210000 210000]\n"
     ]
    }
   ],
   "source": [
    "import numpy as np\n",
    "from numpy import genfromtxt\n",
    "from numpy import hsplit\n",
    "my_data = genfromtxt('iadata.csv', delimiter=';', dtype=\"f4,u4,S8\", names=True)\n",
    "(temp,hour,label)=my_data['t'],my_data['h'],my_data['season']\n",
    "print (\"temp\",temp)\n",
    "print (\"hour\",hour)"
   ]
  },
  {
   "cell_type": "code",
   "execution_count": 66,
   "metadata": {},
   "outputs": [
    {
     "data": {
      "text/plain": [
       "array([[   278.54998779,      0.        ],\n",
       "       [   277.3500061 ,      0.        ],\n",
       "       [   276.8500061 ,      0.        ],\n",
       "       ...,\n",
       "       [   281.04998779, 210000.        ],\n",
       "       [   282.3500061 , 210000.        ],\n",
       "       [   282.54998779, 210000.        ]])"
      ]
     },
     "execution_count": 66,
     "metadata": {},
     "output_type": "execute_result"
    }
   ],
   "source": [
    "from numpy import stack\n",
    "feature=stack((temp,hour),axis=1)\n",
    "feature"
   ]
  },
  {
   "cell_type": "code",
   "execution_count": 73,
   "metadata": {
    "scrolled": false
   },
   "outputs": [
    {
     "data": {
      "image/png": "[encoded data removed]",
      "text/plain": [
       "<Figure size 432x288 with 1 Axes>"
      ]
     },
     "metadata": {
      "needs_background": "light"
     },
     "output_type": "display_data"
    },
    {
     "data": {
      "image/png": "[encoded data removed]",
      "text/plain": [
       "<Figure size 432x288 with 1 Axes>"
      ]
     },
     "metadata": {
      "needs_background": "light"
     },
     "output_type": "display_data"
    }
   ],
   "source": [
    "import matplotlib.pyplot as plt\n",
    "my_rec = my_data.view(np.recarray)\n",
    "plt.plot(my_rec.h,my_rec.t,'b.')\n",
    "#plt.ylim (0.,210000)\n",
    "plt.show()\n",
    "\n",
    "plt.plot(my_rec.season,my_rec.t,'b.')\n",
    "plt.show()"
   ]
  },
  {
   "cell_type": "markdown",
   "metadata": {},
   "source": [
    "Les données montrent que le modèle ne sera pas pertinent entre 275°K (2°c) et 295°C (22°C).\n",
    "On s'en doutait..."
   ]
  },
  {
   "cell_type": "markdown",
   "metadata": {},
   "source": [
    "## Préparation des données"
   ]
  },
  {
   "cell_type": "code",
   "execution_count": 75,
   "metadata": {},
   "outputs": [
    {
     "data": {
      "text/plain": [
       "2"
      ]
     },
     "execution_count": 75,
     "metadata": {},
     "output_type": "execute_result"
    }
   ],
   "source": [
    "from keras import models\n",
    "from keras import layers\n",
    "\n",
    "feature = feature.reshape((161449,2))\n",
    "feature = feature.astype('float32')\n",
    "\n",
    "feature.ndim"
   ]
  },
  {
   "cell_type": "code",
   "execution_count": 76,
   "metadata": {},
   "outputs": [
    {
     "data": {
      "text/plain": [
       "array([[   278.55,      0.  ],\n",
       "       [   277.35,      0.  ],\n",
       "       [   276.85,      0.  ],\n",
       "       ...,\n",
       "       [   281.05, 210000.  ],\n",
       "       [   282.35, 210000.  ],\n",
       "       [   282.55, 210000.  ]], dtype=float32)"
      ]
     },
     "execution_count": 76,
     "metadata": {},
     "output_type": "execute_result"
    }
   ],
   "source": [
    "feature"
   ]
  },
  {
   "cell_type": "code",
   "execution_count": 78,
   "metadata": {},
   "outputs": [
    {
     "data": {
      "text/plain": [
       "284.42477"
      ]
     },
     "execution_count": 78,
     "metadata": {},
     "output_type": "execute_result"
    }
   ],
   "source": [
    "from numpy import average\n",
    "average(feature.T[0])"
   ]
  },
  {
   "cell_type": "code",
   "execution_count": 79,
   "metadata": {},
   "outputs": [
    {
     "data": {
      "text/plain": [
       "array([b'winter', b'winter', b'winter', ..., b'winter', b'winter',\n",
       "       b'winter'], dtype='|S8')"
      ]
     },
     "execution_count": 79,
     "metadata": {},
     "output_type": "execute_result"
    }
   ],
   "source": [
    "label"
   ]
  },
  {
   "cell_type": "code",
   "execution_count": 80,
   "metadata": {},
   "outputs": [
    {
     "data": {
      "text/plain": [
       "1"
      ]
     },
     "execution_count": 80,
     "metadata": {},
     "output_type": "execute_result"
    }
   ],
   "source": [
    "label.ndim"
   ]
  },
  {
   "cell_type": "markdown",
   "metadata": {},
   "source": [
    "## Transformer les variables de sortie (les saisons) en vecteur de probabilité de saison"
   ]
  },
  {
   "cell_type": "code",
   "execution_count": 82,
   "metadata": {
    "scrolled": true
   },
   "outputs": [
    {
     "name": "stdout",
     "output_type": "stream",
     "text": [
      "[[0 0 0 1]\n",
      " [0 0 0 1]\n",
      " [0 0 0 1]\n",
      " ...\n",
      " [0 0 0 1]\n",
      " [0 0 0 1]\n",
      " [0 0 0 1]]\n"
     ]
    }
   ],
   "source": [
    "len(label)\n",
    "from sklearn.preprocessing import LabelBinarizer\n",
    "encoder = LabelBinarizer()\n",
    "transformed_label = encoder.fit_transform(label)\n",
    "print(transformed_label)"
   ]
  },
  {
   "cell_type": "code",
   "execution_count": 83,
   "metadata": {
    "scrolled": false
   },
   "outputs": [],
   "source": [
    "#from keras.preprocessing.text import Tokenizer\n",
    "#tokenizer = Tokenizer(char_level=True)\n",
    "#tokenizer.fit_on_texts(label)\n",
    "#sequence_of_int = tokenizer.texts_to_sequences(label)\n",
    "#print (sequence_of_int)\n",
    "#from keras.utils import to_categorical\n",
    "#new_label= to_categorical(label, num_classes=4, dtype='int32')\n",
    "#new_label= to_categorical(label, num_classes=4)\n",
    "#print (new_label)"
   ]
  },
  {
   "cell_type": "code",
   "execution_count": 84,
   "metadata": {},
   "outputs": [
    {
     "data": {
      "text/plain": [
       "array([0, 0, 1, 0])"
      ]
     },
     "execution_count": 84,
     "metadata": {},
     "output_type": "execute_result"
    }
   ],
   "source": [
    "\n",
    "transformed_label[6819]"
   ]
  },
  {
   "cell_type": "markdown",
   "metadata": {},
   "source": [
    "## Construction du réseau de neurone et compilation"
   ]
  },
  {
   "cell_type": "code",
   "execution_count": 86,
   "metadata": {},
   "outputs": [],
   "source": [
    "network = models.Sequential()\n",
    "network.add(layers.Dense(512, activation='relu',input_dim = 2))\n",
    "network.add(layers.Dense(4, activation='softmax'))\n",
    "#definition de la fonction de perte et de l'algo d'optim\n",
    "network.compile(optimizer='rmsprop',loss='categorical_crossentropy',metrics=['accuracy'])\n"
   ]
  },
  {
   "cell_type": "markdown",
   "metadata": {},
   "source": [
    "## Entrainement et évaluation de l'entrainement"
   ]
  },
  {
   "cell_type": "markdown",
   "metadata": {},
   "source": [
    "TODO : séparer les variables d'entrainbement et de contrôle du modèle (il doit y avoir une fonction pour ça)"
   ]
  },
  {
   "cell_type": "code",
   "execution_count": 89,
   "metadata": {
    "scrolled": false
   },
   "outputs": [
    {
     "name": "stdout",
     "output_type": "stream",
     "text": [
      "Epoch 1/5\n",
      "161449/161449 [==============================] - 8s 48us/step - loss: 12.0806 - acc: 0.2505\n",
      "Epoch 2/5\n",
      "161449/161449 [==============================] - 7s 46us/step - loss: 12.0805 - acc: 0.2505\n",
      "Epoch 3/5\n",
      "161449/161449 [==============================] - 7s 46us/step - loss: 12.0805 - acc: 0.2505\n",
      "Epoch 4/5\n",
      "161449/161449 [==============================] - 7s 46us/step - loss: 12.0805 - acc: 0.2505\n",
      "Epoch 5/5\n",
      "161449/161449 [==============================] - 7s 46us/step - loss: 12.0805 - acc: 0.2505\n",
      "161449/161449 [==============================] - 4s 24us/step\n",
      "test_acc: 0.2505001579446141\n"
     ]
    }
   ],
   "source": [
    "network.fit(feature, transformed_label,epochs=5, batch_size=128)\n",
    "\n",
    "test_loss, test_acc = network.evaluate(feature, transformed_label)\n",
    "print ('test_acc:', test_acc)"
   ]
  },
  {
   "cell_type": "markdown",
   "metadata": {},
   "source": [
    "## Prédiction d'été à midi 32°C"
   ]
  },
  {
   "cell_type": "code",
   "execution_count": 100,
   "metadata": {
    "scrolled": true
   },
   "outputs": [
    {
     "name": "stdout",
     "output_type": "stream",
     "text": [
      "[[1. 0. 0. 0.]]\n"
     ]
    }
   ],
   "source": [
    "prediction = network.predict(np.array([[32.+273.15, 120000.]]))\n",
    "print(prediction)"
   ]
  },
  {
   "cell_type": "markdown",
   "metadata": {},
   "source": [
    "## Prédiction d'hiver à minuit -5°C"
   ]
  },
  {
   "cell_type": "code",
   "execution_count": 99,
   "metadata": {
    "scrolled": false
   },
   "outputs": [
    {
     "name": "stdout",
     "output_type": "stream",
     "text": [
      "[[9.7258812e-10 1.0000000e+00 1.3495114e-17 6.3496447e-10]]\n"
     ]
    }
   ],
   "source": [
    "prediction = network.predict(np.array([[273.15-5, 0.]]))\n",
    "print(prediction)"
   ]
  },
  {
   "cell_type": "markdown",
   "metadata": {},
   "source": [
    "ça bug là..."
   ]
  },
  {
   "cell_type": "code",
   "execution_count": 24,
   "metadata": {},
   "outputs": [],
   "source": [
    "from keras.models import model_from_json\n",
    "import os"
   ]
  },
  {
   "cell_type": "code",
   "execution_count": 21,
   "metadata": {},
   "outputs": [
    {
     "name": "stdout",
     "output_type": "stream",
     "text": [
      "Saved model to disk\n"
     ]
    }
   ],
   "source": [
    "# serialize model to JSON\n",
    "model_json = network.to_json()\n",
    "with open(\"model.json\", \"w\") as json_file:\n",
    "    json_file.write(model_json)\n",
    "# serialize weights to HDF5\n",
    "network.save_weights(\"model.h5\")\n",
    "print(\"Saved model to disk\")\n"
   ]
  },
  {
   "cell_type": "code",
   "execution_count": 25,
   "metadata": {},
   "outputs": [
    {
     "name": "stdout",
     "output_type": "stream",
     "text": [
      "Loaded model from disk\n"
     ]
    }
   ],
   "source": [
    "json_file = open('model.json', 'r')\n",
    "loaded_model_json = json_file.read()\n",
    "json_file.close()\n",
    "loaded_model = model_from_json(loaded_model_json)\n",
    "# load weights into new model\n",
    "loaded_model.load_weights(\"model.h5\")\n",
    "print(\"Loaded model from disk\")"
   ]
  },
  {
   "cell_type": "code",
   "execution_count": 27,
   "metadata": {},
   "outputs": [
    {
     "name": "stdout",
     "output_type": "stream",
     "text": [
      "[[6.8442406e-17 1.0000000e+00 5.6438913e-11 8.3561097e-16]]\n"
     ]
    }
   ],
   "source": [
    "prediction = loaded_model.predict(np.array([273.15-10]))\n",
    "print(prediction)"
   ]
  },
  {
   "cell_type": "markdown",
   "metadata": {},
   "source": [
    "## The end"
   ]
  }
 ],
 "metadata": {
  "kernelspec": {
   "display_name": "Python 3",
   "language": "python",
   "name": "python3"
  },
  "language_info": {
   "codemirror_mode": {
    "name": "ipython",
    "version": 3
   },
   "file_extension": ".py",
   "mimetype": "text/x-python",
   "name": "python",
   "nbconvert_exporter": "python",
   "pygments_lexer": "ipython3",
   "version": "3.6.6"
  }
 },
 "nbformat": 4,
 "nbformat_minor": 2
}
