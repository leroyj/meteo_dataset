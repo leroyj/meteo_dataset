{
 "cells": [
  {
   "cell_type": "code",
   "execution_count": 1,
   "metadata": {},
   "outputs": [
    {
     "data": {
      "text/plain": [
       "<Figure size 640x480 with 1 Axes>"
      ]
     },
     "metadata": {},
     "output_type": "display_data"
    }
   ],
   "source": [
    "from numpy import genfromtxt\n",
    "my_data = genfromtxt('iadata.csv', delimiter=';', dtype=\"f8,S6\", names=True)\n",
    "(temp,label)=my_data['t'],my_data['season']\n",
    "\n",
    "import numpy as np\n",
    "import matplotlib.pyplot as plt\n",
    "my_rec = my_data.view(np.recarray)\n",
    "plt.plot(my_rec.t,my_rec.season,'b.')\n",
    "plt.ylim (0.,4)\n",
    "plt.show()"
   ]
  },
  {
   "cell_type": "code",
   "execution_count": null,
   "metadata": {},
   "outputs": [],
   "source": [
    "from keras import models\n",
    "from keras import layers\n",
    "\n",
    "network = models.Sequential()\n",
    "network.add(layers.Dense(512, activation='relu',input_dim = 1))\n",
    "network.add(layers.Dense(4, activation='softmax'))\n",
    "#definition de la fonction de perte et de l'algo d'optim\n",
    "network.compile(optimizer='rmsprop',loss='categorical_crossentropy',metrics=['accuracy'])\n",
    "#normalization\n",
    "\n",
    "print('Coucou')\n",
    "\n",
    "#encodage des labels\n",
    "from keras.utils import to_categorical\n",
    "\n",
    "label = to_categorical(label)\n",
    "\n",
    "\n",
    "network.fit(temp, label,epochs=5, batch_size=128)\n",
    "\n",
    "test_loss, test_acc = network.evaluate(temp, label)\n",
    "print ('test_acc:', test_acc)"
   ]
  }
 ],
 "metadata": {
  "kernelspec": {
   "display_name": "Python 3",
   "language": "python",
   "name": "python3"
  },
  "language_info": {
   "codemirror_mode": {
    "name": "ipython",
    "version": 3
   },
   "file_extension": ".py",
   "mimetype": "text/x-python",
   "name": "python",
   "nbconvert_exporter": "python",
   "pygments_lexer": "ipython3",
   "version": "3.6.6"
  }
 },
 "nbformat": 4,
 "nbformat_minor": 2
}
